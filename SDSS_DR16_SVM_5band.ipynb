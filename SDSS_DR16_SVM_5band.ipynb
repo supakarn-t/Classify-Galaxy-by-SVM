{
 "cells": [
  {
   "cell_type": "code",
   "execution_count": 1,
   "metadata": {},
   "outputs": [],
   "source": [
    "import numpy as np\n",
    "import matplotlib.pyplot as plt\n",
    "import pandas as pd\n",
    "from sklearn import datasets\n",
    "from sklearn.model_selection import train_test_split\n",
    "from sklearn.pipeline import Pipeline\n",
    "from sklearn.preprocessing import StandardScaler\n",
    "from sklearn.svm import LinearSVC\n",
    "from sklearn.svm import SVC\n"
   ]
  },
  {
   "cell_type": "code",
   "execution_count": 2,
   "metadata": {},
   "outputs": [],
   "source": [
    "path = 'SDSS_DR16_90cutoff_for_Vicky.csv'\n",
    "df = pd.read_csv(path)\n"
   ]
  },
  {
   "cell_type": "code",
   "execution_count": 3,
   "metadata": {},
   "outputs": [],
   "source": [
    "rs = df.loc[:, 'z']\n",
    "Types = df.loc[0:500, 'Types']\n",
    "types = Types.apply(lambda v: v.replace(\n",
    "    'elliptical', '1').replace('spiral', '0')).astype(int)\n",
    "fd = df.loc[:, 'fracDeV_r']\n",
    "\n",
    "X = np.array(df.loc[0:500, 'petroMag_u':'petroMag_z'])\n",
    "# u, g, r, i, z band 0, 1, 2, 3, 4\n",
    "ug = X[:, [0, 1]]\n",
    "ur = X[:, [0, 2]]\n",
    "ui = X[:, [0, 3]]\n",
    "uz = X[:, [0, 4]]\n",
    "gr = X[:, [1, 2]]\n",
    "gi = X[:, [1, 3]]\n",
    "gz = X[:, [1, 4]]\n",
    "ri = X[:, [2, 3]]\n",
    "rz = X[:, [2, 4]]\n",
    "iz = X[:, [3, 4]]\n",
    "y = np.array(types)\n",
    "\n",
    "cmap = 'Paired'\n"
   ]
  },
  {
   "cell_type": "code",
   "execution_count": 4,
   "metadata": {},
   "outputs": [],
   "source": [
    "X_train, X_test, y_train, y_test = train_test_split(X, y, random_state=42)\n"
   ]
  },
  {
   "cell_type": "code",
   "execution_count": 5,
   "metadata": {},
   "outputs": [],
   "source": [
    "C_list = range(1, 51, 1)\n",
    "gamma_list = range(1, 11, 1)\n",
    "\n",
    "\n",
    "# RBF Kernel loop version\n",
    "def rbf_svc_loop(X_train, X_test, y_train, y_test, C_list, gamma_list):\n",
    "    rbf_list = []\n",
    "\n",
    "    for C in C_list:\n",
    "        for gamma in gamma_list:\n",
    "            clf_rbfSVC = Pipeline(\n",
    "                [(\"rbf_svc\", SVC(kernel=\"rbf\", C=C, gamma=gamma, max_iter=10000))])\n",
    "\n",
    "            clf_rbfSVC.fit(X_train, y_train)\n",
    "\n",
    "            train = clf_rbfSVC.score(X_train, y_train)\n",
    "            test = clf_rbfSVC.score(X_test, y_test)\n",
    "            rbf_list += [(C, gamma, train, test)]\n",
    "\n",
    "    return clf_rbfSVC, rbf_list\n",
    "\n",
    "\n",
    "clf_rbfSVC, train_test_list = rbf_svc_loop(\n",
    "    X_train, X_test, y_train, y_test, C_list, gamma_list)\n"
   ]
  },
  {
   "cell_type": "code",
   "execution_count": 6,
   "metadata": {},
   "outputs": [],
   "source": [
    "# max test set\n",
    "def max_test():\n",
    "    POS = 3\n",
    "    rbf_max = (0, 0, 0, 0)\n",
    "    for test in train_test_list:\n",
    "        if rbf_max[POS] < test[POS]:\n",
    "            rbf_max = test\n",
    "\n",
    "    C_max = rbf_max[0]\n",
    "    gamma_max = rbf_max[1]\n",
    "    train_max = rbf_max[2]\n",
    "    test_max = rbf_max[3]\n",
    "\n",
    "    return C_max, gamma_max, train_max, test_max\n",
    "\n",
    "\n",
    "C, gamma, train, test = max_test()\n"
   ]
  },
  {
   "cell_type": "code",
   "execution_count": 7,
   "metadata": {},
   "outputs": [
    {
     "name": "stdout",
     "output_type": "stream",
     "text": [
      "C = 44, gamma = 2\n",
      "Train set accuracy = 0.8933333333333333\n",
      "Test set accuracy = 0.8095238095238095\n"
     ]
    }
   ],
   "source": [
    "print('C = ' + str(C) + ', ' + 'gamma = ' + str(gamma))\n",
    "print(\"Train set accuracy = \" + str(train))\n",
    "print(\"Test set accuracy = \" + str(test))"
   ]
  }
 ],
 "metadata": {
  "kernelspec": {
   "display_name": "Python 3.8.5 64-bit",
   "language": "python",
   "name": "python3"
  },
  "language_info": {
   "codemirror_mode": {
    "name": "ipython",
    "version": 3
   },
   "file_extension": ".py",
   "mimetype": "text/x-python",
   "name": "python",
   "nbconvert_exporter": "python",
   "pygments_lexer": "ipython3",
   "version": "3.8.5"
  },
  "orig_nbformat": 4,
  "vscode": {
   "interpreter": {
    "hash": "626427279aa2454b6be04cdb3a226e87a519a5817b1366377d3d6a340696fdd3"
   }
  }
 },
 "nbformat": 4,
 "nbformat_minor": 2
}
