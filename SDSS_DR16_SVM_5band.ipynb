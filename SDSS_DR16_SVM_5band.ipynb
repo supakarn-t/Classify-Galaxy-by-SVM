{
 "cells": [
  {
   "cell_type": "code",
   "execution_count": 1,
   "metadata": {},
   "outputs": [],
   "source": [
    "import numpy as np\n",
    "import matplotlib.pyplot as plt\n",
    "import pandas as pd\n",
    "from sklearn.model_selection import train_test_split\n",
    "from sklearn.pipeline import Pipeline\n",
    "from sklearn.svm import SVC\n",
    "import pickle\n"
   ]
  },
  {
   "cell_type": "code",
   "execution_count": 2,
   "metadata": {},
   "outputs": [],
   "source": [
    "path = 'SDSS_DR16_90cutoff_for_Vicky.csv'\n",
    "df = pd.read_csv(path)\n"
   ]
  },
  {
   "cell_type": "code",
   "execution_count": 3,
   "metadata": {},
   "outputs": [],
   "source": [
    "Types = df.loc[:, 'Types']\n",
    "types = Types.apply(lambda v: v.replace(\n",
    "    'elliptical', '1').replace('spiral', '0')).astype(int)\n",
    "\n",
    "X = np.array(df.loc[:, 'petroMag_u':'petroMag_z'])\n",
    "y = np.array(types)\n"
   ]
  },
  {
   "cell_type": "code",
   "execution_count": 4,
   "metadata": {},
   "outputs": [],
   "source": [
    "X_train, X_test, y_train, y_test = train_test_split(X, y, random_state=42)\n"
   ]
  },
  {
   "cell_type": "markdown",
   "metadata": {},
   "source": [
    "low C = อนุญาติให้ data ปนกันน้อย\n",
    "\n",
    "high C = อนุญาติให้ data ปนกันมาก ,ไม่ค่อยเข้มงวดในการแบ่ง\n",
    "\n",
    "low gamma = เส้นแบ่งหยักน้อย\n",
    "\n",
    "high gamma = เส้นแบ่งหยักมาก"
   ]
  },
  {
   "cell_type": "code",
   "execution_count": 5,
   "metadata": {},
   "outputs": [],
   "source": [
    "C_range = np.logspace(0, 10, 11)\n",
    "gamma_range = np.logspace(-9, 1, 11)\n",
    "\n",
    "\n",
    "# RBF Kernel loop version\n",
    "clf_list = []\n",
    "\n",
    "for C in C_range:\n",
    "    for gamma in gamma_range:\n",
    "        clf_rbfSVC = Pipeline(\n",
    "            [(\"rbf_svc\", SVC(kernel=\"rbf\", C=C, gamma=gamma))])\n",
    "\n",
    "        clf_rbfSVC.fit(X_train, y_train)\n",
    "\n",
    "        train = clf_rbfSVC.score(X_train, y_train)\n",
    "        test = clf_rbfSVC.score(X_test, y_test)\n",
    "        clf_list += [(C, gamma, train, test, clf_rbfSVC)]\n",
    "        \n",
    "        print('C = ' + str(C) + ', ' + 'gamma = ' + str(gamma))\n",
    "        print(\"Test set accuracy = \" + str(test))\n"
   ]
  },
  {
   "cell_type": "markdown",
   "metadata": {},
   "source": [
    "C = 1.0, gamma = 1e-09\n",
    "\n",
    "Test set accuracy = 0.529424753492976\n",
    "\n",
    "C = 1.0, gamma = 1e-08\n",
    "\n",
    "Test set accuracy = 0.529424753492976\n",
    "\n",
    "C = 1.0, gamma = 1e-07\n",
    "\n",
    "Test set accuracy = 0.529424753492976\n",
    "\n",
    "C = 1.0, gamma = 1e-06\n",
    "\n",
    "Test set accuracy = 0.529424753492976\n",
    "\n",
    "C = 1.0, gamma = 1e-05\n",
    "\n",
    "Test set accuracy = 0.8220657098260175\n",
    "\n",
    "C = 1.0, gamma = 0.0001\n",
    "\n",
    "Test set accuracy = 0.8271519396961967"
   ]
  },
  {
   "cell_type": "code",
   "execution_count": null,
   "metadata": {},
   "outputs": [],
   "source": [
    "# max test set\n",
    "\n",
    "POS = 3\n",
    "clf_max = (0, 0, 0, 0, 0)\n",
    "\n",
    "for clf in clf_list:\n",
    "    if clf_max[POS] < clf[POS]:\n",
    "        clf_max = clf\n",
    "\n",
    "C_max = clf_max[0]\n",
    "gamma_max = clf_max[1]\n",
    "train_max = clf_max[2]\n",
    "test_max = clf_max[3]\n"
   ]
  },
  {
   "cell_type": "code",
   "execution_count": null,
   "metadata": {},
   "outputs": [
    {
     "name": "stdout",
     "output_type": "stream",
     "text": [
      "C = 1000000000.0, gamma = 0.0001\n",
      "Train set accuracy = 0.8666666666666667\n",
      "Test set accuracy = 0.9230769230769231\n"
     ]
    }
   ],
   "source": [
    "print('C = ' + str(C_max) + ', ' + 'gamma = ' + str(gamma_max))\n",
    "print(\"Train set accuracy = \" + str(train_max))\n",
    "print(\"Test set accuracy = \" + str(test_max))\n"
   ]
  },
  {
   "cell_type": "code",
   "execution_count": null,
   "metadata": {},
   "outputs": [],
   "source": [
    "# save train-test data\n",
    "clf_save = open('clf.csv', 'wb')\n",
    "pickle.dump(clf_list, clf_save)\n",
    "clf_save.close()\n"
   ]
  },
  {
   "cell_type": "code",
   "execution_count": null,
   "metadata": {},
   "outputs": [],
   "source": [
    "# load data\n",
    "clf_read = open('clf.csv', 'rb')\n",
    "clf_file = pickle.load(clf_read)\n"
   ]
  },
  {
   "cell_type": "code",
   "execution_count": null,
   "metadata": {},
   "outputs": [],
   "source": [
    "# clf_file = [(C1, gamma1, train1, test1, clf1), (C2, gamma2, train2, test2, clf2), (C3, gamma3, train3, test3, clf3),...]\n",
    "# *clf_file = (C1, gamma1, train1, test1, clf1) (C2, gamma2, train2, test2, clf2) (C3, gamma3, train3, test3, clf3)...\n",
    "# zip(*clf_file) = (C1, C2, C3,...), (gamma1, gamma2, gamma3,...), (train1, train2, train3,...), (test1, test2, test3,...), (clf1, clf2, clf3,...) --> อ่านไม่ได้เลยต้องใส่ list\n",
    "\n",
    "tp = list(zip(*clf_file))\n",
    "test_array = np.array(tp[3])\n",
    "test_grid = test_array.reshape(len(C_range), len(gamma_range))\n"
   ]
  },
  {
   "cell_type": "code",
   "execution_count": null,
   "metadata": {},
   "outputs": [],
   "source": [
    "from matplotlib.colors import Normalize\n",
    "\n",
    "class MidpointNormalize(Normalize):\n",
    "    def __init__(self, vmin=None, vmax=None, midpoint=None, clip=False):\n",
    "        self.midpoint = midpoint\n",
    "        Normalize.__init__(self, vmin, vmax, clip)\n",
    "\n",
    "    def __call__(self, value, clip=None):\n",
    "        x, y = [self.vmin, self.midpoint, self.vmax], [0, 0.5, 1]\n",
    "        return np.ma.masked_array(np.interp(value, x, y))"
   ]
  },
  {
   "cell_type": "code",
   "execution_count": null,
   "metadata": {},
   "outputs": [
    {
     "data": {
      "image/png": "[encoded data removed]",
      "text/plain": [
       "<Figure size 576x432 with 2 Axes>"
      ]
     },
     "metadata": {
      "needs_background": "light"
     },
     "output_type": "display_data"
    }
   ],
   "source": [
    "plt.figure(figsize=(8, 6))\n",
    "plt.subplots_adjust(left=0.2, right=0.95, bottom=0.15, top=0.95)\n",
    "plt.imshow(\n",
    "    test_grid,\n",
    "    interpolation=\"nearest\",\n",
    "    cmap=plt.cm.seismic,\n",
    "    norm=MidpointNormalize(vmin=0, midpoint=0.8),\n",
    ")\n",
    "plt.xlabel(\"gamma\")\n",
    "plt.ylabel(\"C\")\n",
    "plt.colorbar()\n",
    "plt.xticks(np.arange(len(gamma_range)), gamma_range, rotation=45)\n",
    "plt.yticks(np.arange(len(C_range)), C_range)\n",
    "plt.title(\"Validation accuracy\")\n",
    "plt.show()"
   ]
  },
  {
   "cell_type": "code",
   "execution_count": null,
   "metadata": {},
   "outputs": [
    {
     "data": {
      "text/plain": [
       "(-0.5, 255.5, 1.5, -0.5)"
      ]
     },
     "execution_count": 13,
     "metadata": {},
     "output_type": "execute_result"
    },
    {
     "data": {
      "image/png": "[encoded data removed]",
      "text/plain": [
       "<Figure size 576x36 with 1 Axes>"
      ]
     },
     "metadata": {
      "needs_background": "light"
     },
     "output_type": "display_data"
    }
   ],
   "source": [
    "gradient = np.linspace(0, 1, 256)\n",
    "gradient = np.vstack((gradient, gradient))\n",
    "\n",
    "plt.figure(figsize=(8, 0.5))\n",
    "plt.imshow(gradient, aspect='auto', cmap=plt.get_cmap('seismic'))\n",
    "plt.axis('off')\n"
   ]
  }
 ],
 "metadata": {
  "kernelspec": {
   "display_name": "Python 3.8.5 64-bit",
   "language": "python",
   "name": "python3"
  },
  "language_info": {
   "codemirror_mode": {
    "name": "ipython",
    "version": 3
   },
   "file_extension": ".py",
   "mimetype": "text/x-python",
   "name": "python",
   "nbconvert_exporter": "python",
   "pygments_lexer": "ipython3",
   "version": "3.8.5"
  },
  "orig_nbformat": 4,
  "vscode": {
   "interpreter": {
    "hash": "626427279aa2454b6be04cdb3a226e87a519a5817b1366377d3d6a340696fdd3"
   }
  }
 },
 "nbformat": 4,
 "nbformat_minor": 2
}
