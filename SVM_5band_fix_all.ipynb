{
 "cells": [
  {
   "cell_type": "code",
   "execution_count": 1,
   "metadata": {},
   "outputs": [],
   "source": [
    "import pandas as pd\n",
    "import numpy as np\n",
    "import matplotlib.pyplot as plt\n"
   ]
  },
  {
   "cell_type": "code",
   "execution_count": 2,
   "metadata": {},
   "outputs": [
    {
     "data": {
      "text/html": [
       "<div>\n",
       "<style scoped>\n",
       "    .dataframe tbody tr th:only-of-type {\n",
       "        vertical-align: middle;\n",
       "    }\n",
       "\n",
       "    .dataframe tbody tr th {\n",
       "        vertical-align: top;\n",
       "    }\n",
       "\n",
       "    .dataframe thead th {\n",
       "        text-align: right;\n",
       "    }\n",
       "</style>\n",
       "<table border=\"1\" class=\"dataframe\">\n",
       "  <thead>\n",
       "    <tr style=\"text-align: right;\">\n",
       "      <th></th>\n",
       "      <th>Unnamed: 0</th>\n",
       "      <th>specObjID</th>\n",
       "      <th>ra</th>\n",
       "      <th>dec</th>\n",
       "      <th>z</th>\n",
       "      <th>zErr</th>\n",
       "      <th>Types</th>\n",
       "      <th>d4000_n</th>\n",
       "      <th>sigmaStars</th>\n",
       "      <th>fracDeV_r</th>\n",
       "      <th>petroMag_u</th>\n",
       "      <th>petroMag_g</th>\n",
       "      <th>petroMag_r</th>\n",
       "      <th>petroMag_i</th>\n",
       "      <th>petroMag_z</th>\n",
       "    </tr>\n",
       "  </thead>\n",
       "  <tbody>\n",
       "    <tr>\n",
       "      <th>0</th>\n",
       "      <td>0</td>\n",
       "      <td>2795715636188178432</td>\n",
       "      <td>162.87876</td>\n",
       "      <td>16.838215</td>\n",
       "      <td>0.022297</td>\n",
       "      <td>0.000007</td>\n",
       "      <td>elliptical</td>\n",
       "      <td>1.939160</td>\n",
       "      <td>128.97870</td>\n",
       "      <td>1.000000</td>\n",
       "      <td>17.35997</td>\n",
       "      <td>15.50984</td>\n",
       "      <td>14.68634</td>\n",
       "      <td>14.30167</td>\n",
       "      <td>14.01772</td>\n",
       "    </tr>\n",
       "    <tr>\n",
       "      <th>1</th>\n",
       "      <td>1</td>\n",
       "      <td>2840803871343798272</td>\n",
       "      <td>240.39499</td>\n",
       "      <td>11.850668</td>\n",
       "      <td>0.053161</td>\n",
       "      <td>0.000011</td>\n",
       "      <td>elliptical</td>\n",
       "      <td>1.944695</td>\n",
       "      <td>183.85820</td>\n",
       "      <td>0.935781</td>\n",
       "      <td>19.15590</td>\n",
       "      <td>17.14306</td>\n",
       "      <td>16.24167</td>\n",
       "      <td>15.81783</td>\n",
       "      <td>15.50098</td>\n",
       "    </tr>\n",
       "    <tr>\n",
       "      <th>2</th>\n",
       "      <td>2</td>\n",
       "      <td>2800218136303921152</td>\n",
       "      <td>164.66952</td>\n",
       "      <td>16.900165</td>\n",
       "      <td>0.068568</td>\n",
       "      <td>0.000009</td>\n",
       "      <td>spiral</td>\n",
       "      <td>1.282932</td>\n",
       "      <td>81.20707</td>\n",
       "      <td>0.420175</td>\n",
       "      <td>18.36842</td>\n",
       "      <td>17.18698</td>\n",
       "      <td>16.64672</td>\n",
       "      <td>16.31816</td>\n",
       "      <td>16.09746</td>\n",
       "    </tr>\n",
       "    <tr>\n",
       "      <th>3</th>\n",
       "      <td>3</td>\n",
       "      <td>2800232155077175296</td>\n",
       "      <td>164.85617</td>\n",
       "      <td>16.979098</td>\n",
       "      <td>0.083634</td>\n",
       "      <td>0.000019</td>\n",
       "      <td>spiral</td>\n",
       "      <td>1.565293</td>\n",
       "      <td>97.63731</td>\n",
       "      <td>0.170645</td>\n",
       "      <td>18.47494</td>\n",
       "      <td>17.25055</td>\n",
       "      <td>16.64057</td>\n",
       "      <td>16.32310</td>\n",
       "      <td>16.13419</td>\n",
       "    </tr>\n",
       "    <tr>\n",
       "      <th>4</th>\n",
       "      <td>4</td>\n",
       "      <td>2849703318459017216</td>\n",
       "      <td>245.52298</td>\n",
       "      <td>10.278617</td>\n",
       "      <td>0.128543</td>\n",
       "      <td>0.000025</td>\n",
       "      <td>spiral</td>\n",
       "      <td>1.453489</td>\n",
       "      <td>219.17930</td>\n",
       "      <td>0.478295</td>\n",
       "      <td>19.32188</td>\n",
       "      <td>17.80865</td>\n",
       "      <td>17.02585</td>\n",
       "      <td>16.56203</td>\n",
       "      <td>16.39108</td>\n",
       "    </tr>\n",
       "    <tr>\n",
       "      <th>...</th>\n",
       "      <td>...</td>\n",
       "      <td>...</td>\n",
       "      <td>...</td>\n",
       "      <td>...</td>\n",
       "      <td>...</td>\n",
       "      <td>...</td>\n",
       "      <td>...</td>\n",
       "      <td>...</td>\n",
       "      <td>...</td>\n",
       "      <td>...</td>\n",
       "      <td>...</td>\n",
       "      <td>...</td>\n",
       "      <td>...</td>\n",
       "      <td>...</td>\n",
       "      <td>...</td>\n",
       "    </tr>\n",
       "    <tr>\n",
       "      <th>525335</th>\n",
       "      <td>583519</td>\n",
       "      <td>2795713986920736768</td>\n",
       "      <td>162.43700</td>\n",
       "      <td>17.284938</td>\n",
       "      <td>0.056785</td>\n",
       "      <td>0.000006</td>\n",
       "      <td>spiral</td>\n",
       "      <td>1.123235</td>\n",
       "      <td>98.59753</td>\n",
       "      <td>0.000000</td>\n",
       "      <td>19.50647</td>\n",
       "      <td>17.86611</td>\n",
       "      <td>17.53326</td>\n",
       "      <td>17.20054</td>\n",
       "      <td>17.99106</td>\n",
       "    </tr>\n",
       "    <tr>\n",
       "      <th>525336</th>\n",
       "      <td>583520</td>\n",
       "      <td>2916209471627749376</td>\n",
       "      <td>155.78431</td>\n",
       "      <td>15.811398</td>\n",
       "      <td>0.145377</td>\n",
       "      <td>0.000023</td>\n",
       "      <td>elliptical</td>\n",
       "      <td>1.496544</td>\n",
       "      <td>148.20890</td>\n",
       "      <td>1.000000</td>\n",
       "      <td>20.09706</td>\n",
       "      <td>18.75447</td>\n",
       "      <td>17.76428</td>\n",
       "      <td>17.33186</td>\n",
       "      <td>17.03715</td>\n",
       "    </tr>\n",
       "    <tr>\n",
       "      <th>525337</th>\n",
       "      <td>583522</td>\n",
       "      <td>2920722966893324288</td>\n",
       "      <td>159.56049</td>\n",
       "      <td>16.508320</td>\n",
       "      <td>0.178770</td>\n",
       "      <td>0.000020</td>\n",
       "      <td>spiral</td>\n",
       "      <td>1.549078</td>\n",
       "      <td>91.99490</td>\n",
       "      <td>0.407970</td>\n",
       "      <td>19.59916</td>\n",
       "      <td>18.35870</td>\n",
       "      <td>17.55004</td>\n",
       "      <td>17.16154</td>\n",
       "      <td>17.01065</td>\n",
       "    </tr>\n",
       "    <tr>\n",
       "      <th>525338</th>\n",
       "      <td>583523</td>\n",
       "      <td>2792375044968310784</td>\n",
       "      <td>161.67263</td>\n",
       "      <td>16.703673</td>\n",
       "      <td>0.056509</td>\n",
       "      <td>0.000008</td>\n",
       "      <td>spiral</td>\n",
       "      <td>1.398121</td>\n",
       "      <td>83.41415</td>\n",
       "      <td>0.282227</td>\n",
       "      <td>19.66740</td>\n",
       "      <td>18.04996</td>\n",
       "      <td>17.17682</td>\n",
       "      <td>16.70945</td>\n",
       "      <td>16.39195</td>\n",
       "    </tr>\n",
       "    <tr>\n",
       "      <th>525339</th>\n",
       "      <td>583524</td>\n",
       "      <td>2792400608613656576</td>\n",
       "      <td>162.58228</td>\n",
       "      <td>16.825384</td>\n",
       "      <td>0.168399</td>\n",
       "      <td>0.000026</td>\n",
       "      <td>elliptical</td>\n",
       "      <td>1.903417</td>\n",
       "      <td>192.44550</td>\n",
       "      <td>1.000000</td>\n",
       "      <td>20.37112</td>\n",
       "      <td>18.54632</td>\n",
       "      <td>17.46568</td>\n",
       "      <td>16.99763</td>\n",
       "      <td>16.79219</td>\n",
       "    </tr>\n",
       "  </tbody>\n",
       "</table>\n",
       "<p>525340 rows × 15 columns</p>\n",
       "</div>"
      ],
      "text/plain": [
       "        Unnamed: 0            specObjID         ra        dec         z  \\\n",
       "0                0  2795715636188178432  162.87876  16.838215  0.022297   \n",
       "1                1  2840803871343798272  240.39499  11.850668  0.053161   \n",
       "2                2  2800218136303921152  164.66952  16.900165  0.068568   \n",
       "3                3  2800232155077175296  164.85617  16.979098  0.083634   \n",
       "4                4  2849703318459017216  245.52298  10.278617  0.128543   \n",
       "...            ...                  ...        ...        ...       ...   \n",
       "525335      583519  2795713986920736768  162.43700  17.284938  0.056785   \n",
       "525336      583520  2916209471627749376  155.78431  15.811398  0.145377   \n",
       "525337      583522  2920722966893324288  159.56049  16.508320  0.178770   \n",
       "525338      583523  2792375044968310784  161.67263  16.703673  0.056509   \n",
       "525339      583524  2792400608613656576  162.58228  16.825384  0.168399   \n",
       "\n",
       "            zErr       Types   d4000_n  sigmaStars  fracDeV_r  petroMag_u  \\\n",
       "0       0.000007  elliptical  1.939160   128.97870   1.000000    17.35997   \n",
       "1       0.000011  elliptical  1.944695   183.85820   0.935781    19.15590   \n",
       "2       0.000009      spiral  1.282932    81.20707   0.420175    18.36842   \n",
       "3       0.000019      spiral  1.565293    97.63731   0.170645    18.47494   \n",
       "4       0.000025      spiral  1.453489   219.17930   0.478295    19.32188   \n",
       "...          ...         ...       ...         ...        ...         ...   \n",
       "525335  0.000006      spiral  1.123235    98.59753   0.000000    19.50647   \n",
       "525336  0.000023  elliptical  1.496544   148.20890   1.000000    20.09706   \n",
       "525337  0.000020      spiral  1.549078    91.99490   0.407970    19.59916   \n",
       "525338  0.000008      spiral  1.398121    83.41415   0.282227    19.66740   \n",
       "525339  0.000026  elliptical  1.903417   192.44550   1.000000    20.37112   \n",
       "\n",
       "        petroMag_g  petroMag_r  petroMag_i  petroMag_z  \n",
       "0         15.50984    14.68634    14.30167    14.01772  \n",
       "1         17.14306    16.24167    15.81783    15.50098  \n",
       "2         17.18698    16.64672    16.31816    16.09746  \n",
       "3         17.25055    16.64057    16.32310    16.13419  \n",
       "4         17.80865    17.02585    16.56203    16.39108  \n",
       "...            ...         ...         ...         ...  \n",
       "525335    17.86611    17.53326    17.20054    17.99106  \n",
       "525336    18.75447    17.76428    17.33186    17.03715  \n",
       "525337    18.35870    17.55004    17.16154    17.01065  \n",
       "525338    18.04996    17.17682    16.70945    16.39195  \n",
       "525339    18.54632    17.46568    16.99763    16.79219  \n",
       "\n",
       "[525340 rows x 15 columns]"
      ]
     },
     "execution_count": 2,
     "metadata": {},
     "output_type": "execute_result"
    }
   ],
   "source": [
    "SDSS_DR16 = 'SDSS_DR16_90cutoff_for_Vicky.csv'\n",
    "df = pd.read_csv(SDSS_DR16)\n",
    "df\n"
   ]
  },
  {
   "cell_type": "code",
   "execution_count": 3,
   "metadata": {},
   "outputs": [],
   "source": [
    "Types = df.loc[:, 'Types']\n",
    "Types_ = np.array(Types)\n",
    "types = Types.apply(lambda v: v.replace(\n",
    "    'elliptical', '0').replace('spiral', '1')).astype(int)\n",
    "\n",
    "X = np.array(df.loc[:, 'petroMag_u':'petroMag_z'])\n",
    "y = np.array(types)\n",
    "\n",
    "rs = np.array(df.loc[:, 'z'])\n",
    "fd = np.array(df.loc[:, 'fracDeV_r'])\n"
   ]
  },
  {
   "cell_type": "code",
   "execution_count": 4,
   "metadata": {},
   "outputs": [],
   "source": [
    "from sklearn.model_selection import train_test_split\n",
    "\n",
    "X_train, X_test, y_train, y_test = train_test_split(X, y, random_state=42)\n",
    "#randon_state ไว้กำหนดให้การ split ข้อมูลแต่ล่ะครั้ง ให้หน้าตาเหมือนเดิม ที่เป็น 42 เพราะว่ามีคนใช้แล้วใช้ตามกันเฉยๆ\n"
   ]
  },
  {
   "cell_type": "code",
   "execution_count": 5,
   "metadata": {},
   "outputs": [],
   "source": [
    "# print(X_train.shape)\n",
    "# print(X_test.shape)\n",
    "# print(y_train.shape)\n",
    "# print(y_test.shape)"
   ]
  },
  {
   "cell_type": "code",
   "execution_count": 6,
   "metadata": {},
   "outputs": [
    {
     "data": {
      "text/html": [
       "<style>#sk-container-id-1 {color: black;background-color: white;}#sk-container-id-1 pre{padding: 0;}#sk-container-id-1 div.sk-toggleable {background-color: white;}#sk-container-id-1 label.sk-toggleable__label {cursor: pointer;display: block;width: 100%;margin-bottom: 0;padding: 0.3em;box-sizing: border-box;text-align: center;}#sk-container-id-1 label.sk-toggleable__label-arrow:before {content: \"▸\";float: left;margin-right: 0.25em;color: #696969;}#sk-container-id-1 label.sk-toggleable__label-arrow:hover:before {color: black;}#sk-container-id-1 div.sk-estimator:hover label.sk-toggleable__label-arrow:before {color: black;}#sk-container-id-1 div.sk-toggleable__content {max-height: 0;max-width: 0;overflow: hidden;text-align: left;background-color: #f0f8ff;}#sk-container-id-1 div.sk-toggleable__content pre {margin: 0.2em;color: black;border-radius: 0.25em;background-color: #f0f8ff;}#sk-container-id-1 input.sk-toggleable__control:checked~div.sk-toggleable__content {max-height: 200px;max-width: 100%;overflow: auto;}#sk-container-id-1 input.sk-toggleable__control:checked~label.sk-toggleable__label-arrow:before {content: \"▾\";}#sk-container-id-1 div.sk-estimator input.sk-toggleable__control:checked~label.sk-toggleable__label {background-color: #d4ebff;}#sk-container-id-1 div.sk-label input.sk-toggleable__control:checked~label.sk-toggleable__label {background-color: #d4ebff;}#sk-container-id-1 input.sk-hidden--visually {border: 0;clip: rect(1px 1px 1px 1px);clip: rect(1px, 1px, 1px, 1px);height: 1px;margin: -1px;overflow: hidden;padding: 0;position: absolute;width: 1px;}#sk-container-id-1 div.sk-estimator {font-family: monospace;background-color: #f0f8ff;border: 1px dotted black;border-radius: 0.25em;box-sizing: border-box;margin-bottom: 0.5em;}#sk-container-id-1 div.sk-estimator:hover {background-color: #d4ebff;}#sk-container-id-1 div.sk-parallel-item::after {content: \"\";width: 100%;border-bottom: 1px solid gray;flex-grow: 1;}#sk-container-id-1 div.sk-label:hover label.sk-toggleable__label {background-color: #d4ebff;}#sk-container-id-1 div.sk-serial::before {content: \"\";position: absolute;border-left: 1px solid gray;box-sizing: border-box;top: 0;bottom: 0;left: 50%;z-index: 0;}#sk-container-id-1 div.sk-serial {display: flex;flex-direction: column;align-items: center;background-color: white;padding-right: 0.2em;padding-left: 0.2em;position: relative;}#sk-container-id-1 div.sk-item {position: relative;z-index: 1;}#sk-container-id-1 div.sk-parallel {display: flex;align-items: stretch;justify-content: center;background-color: white;position: relative;}#sk-container-id-1 div.sk-item::before, #sk-container-id-1 div.sk-parallel-item::before {content: \"\";position: absolute;border-left: 1px solid gray;box-sizing: border-box;top: 0;bottom: 0;left: 50%;z-index: -1;}#sk-container-id-1 div.sk-parallel-item {display: flex;flex-direction: column;z-index: 1;position: relative;background-color: white;}#sk-container-id-1 div.sk-parallel-item:first-child::after {align-self: flex-end;width: 50%;}#sk-container-id-1 div.sk-parallel-item:last-child::after {align-self: flex-start;width: 50%;}#sk-container-id-1 div.sk-parallel-item:only-child::after {width: 0;}#sk-container-id-1 div.sk-dashed-wrapped {border: 1px dashed gray;margin: 0 0.4em 0.5em 0.4em;box-sizing: border-box;padding-bottom: 0.4em;background-color: white;}#sk-container-id-1 div.sk-label label {font-family: monospace;font-weight: bold;display: inline-block;line-height: 1.2em;}#sk-container-id-1 div.sk-label-container {text-align: center;}#sk-container-id-1 div.sk-container {/* jupyter's `normalize.less` sets `[hidden] { display: none; }` but bootstrap.min.css set `[hidden] { display: none !important; }` so we also need the `!important` here to be able to override the default hidden behavior on the sphinx rendered scikit-learn.org. See: https://github.com/scikit-learn/scikit-learn/issues/21755 */display: inline-block !important;position: relative;}#sk-container-id-1 div.sk-text-repr-fallback {display: none;}</style><div id=\"sk-container-id-1\" class=\"sk-top-container\"><div class=\"sk-text-repr-fallback\"><pre>SVC(C=1000000000, gamma=0.0001)</pre><b>In a Jupyter environment, please rerun this cell to show the HTML representation or trust the notebook. <br />On GitHub, the HTML representation is unable to render, please try loading this page with nbviewer.org.</b></div><div class=\"sk-container\" hidden><div class=\"sk-item\"><div class=\"sk-estimator sk-toggleable\"><input class=\"sk-toggleable__control sk-hidden--visually\" id=\"sk-estimator-id-1\" type=\"checkbox\" checked><label for=\"sk-estimator-id-1\" class=\"sk-toggleable__label sk-toggleable__label-arrow\">SVC</label><div class=\"sk-toggleable__content\"><pre>SVC(C=1000000000, gamma=0.0001)</pre></div></div></div></div></div>"
      ],
      "text/plain": [
       "SVC(C=1000000000, gamma=0.0001)"
      ]
     },
     "execution_count": 6,
     "metadata": {},
     "output_type": "execute_result"
    }
   ],
   "source": [
    "from sklearn.pipeline import Pipeline\n",
    "from sklearn.svm import SVC\n",
    "\n",
    "C = 1000000000\n",
    "gamma = 0.0001\n",
    "'''\n",
    "# RBF Kernel\n",
    "svm_rbf = SVC(kernel='rbf', C=C, gamma=gamma)\n",
    "\n",
    "svm_fit = svm_rbf.fit(X_train, y_train)\n",
    "svm_fit\n",
    "'''"
   ]
  },
  {
   "cell_type": "code",
   "execution_count": 7,
   "metadata": {},
   "outputs": [],
   "source": [
    "import pickle\n",
    "'''\n",
    "# save train-test data\n",
    "svm_save = open('svm_fix_all.csv', 'wb')\n",
    "pickle.dump(svm_fit, svm_save)\n",
    "svm_save.close()\n",
    "'''"
   ]
  },
  {
   "cell_type": "code",
   "execution_count": 8,
   "metadata": {},
   "outputs": [
    {
     "data": {
      "text/html": [
       "<style>#sk-container-id-2 {color: black;background-color: white;}#sk-container-id-2 pre{padding: 0;}#sk-container-id-2 div.sk-toggleable {background-color: white;}#sk-container-id-2 label.sk-toggleable__label {cursor: pointer;display: block;width: 100%;margin-bottom: 0;padding: 0.3em;box-sizing: border-box;text-align: center;}#sk-container-id-2 label.sk-toggleable__label-arrow:before {content: \"▸\";float: left;margin-right: 0.25em;color: #696969;}#sk-container-id-2 label.sk-toggleable__label-arrow:hover:before {color: black;}#sk-container-id-2 div.sk-estimator:hover label.sk-toggleable__label-arrow:before {color: black;}#sk-container-id-2 div.sk-toggleable__content {max-height: 0;max-width: 0;overflow: hidden;text-align: left;background-color: #f0f8ff;}#sk-container-id-2 div.sk-toggleable__content pre {margin: 0.2em;color: black;border-radius: 0.25em;background-color: #f0f8ff;}#sk-container-id-2 input.sk-toggleable__control:checked~div.sk-toggleable__content {max-height: 200px;max-width: 100%;overflow: auto;}#sk-container-id-2 input.sk-toggleable__control:checked~label.sk-toggleable__label-arrow:before {content: \"▾\";}#sk-container-id-2 div.sk-estimator input.sk-toggleable__control:checked~label.sk-toggleable__label {background-color: #d4ebff;}#sk-container-id-2 div.sk-label input.sk-toggleable__control:checked~label.sk-toggleable__label {background-color: #d4ebff;}#sk-container-id-2 input.sk-hidden--visually {border: 0;clip: rect(1px 1px 1px 1px);clip: rect(1px, 1px, 1px, 1px);height: 1px;margin: -1px;overflow: hidden;padding: 0;position: absolute;width: 1px;}#sk-container-id-2 div.sk-estimator {font-family: monospace;background-color: #f0f8ff;border: 1px dotted black;border-radius: 0.25em;box-sizing: border-box;margin-bottom: 0.5em;}#sk-container-id-2 div.sk-estimator:hover {background-color: #d4ebff;}#sk-container-id-2 div.sk-parallel-item::after {content: \"\";width: 100%;border-bottom: 1px solid gray;flex-grow: 1;}#sk-container-id-2 div.sk-label:hover label.sk-toggleable__label {background-color: #d4ebff;}#sk-container-id-2 div.sk-serial::before {content: \"\";position: absolute;border-left: 1px solid gray;box-sizing: border-box;top: 0;bottom: 0;left: 50%;z-index: 0;}#sk-container-id-2 div.sk-serial {display: flex;flex-direction: column;align-items: center;background-color: white;padding-right: 0.2em;padding-left: 0.2em;position: relative;}#sk-container-id-2 div.sk-item {position: relative;z-index: 1;}#sk-container-id-2 div.sk-parallel {display: flex;align-items: stretch;justify-content: center;background-color: white;position: relative;}#sk-container-id-2 div.sk-item::before, #sk-container-id-2 div.sk-parallel-item::before {content: \"\";position: absolute;border-left: 1px solid gray;box-sizing: border-box;top: 0;bottom: 0;left: 50%;z-index: -1;}#sk-container-id-2 div.sk-parallel-item {display: flex;flex-direction: column;z-index: 1;position: relative;background-color: white;}#sk-container-id-2 div.sk-parallel-item:first-child::after {align-self: flex-end;width: 50%;}#sk-container-id-2 div.sk-parallel-item:last-child::after {align-self: flex-start;width: 50%;}#sk-container-id-2 div.sk-parallel-item:only-child::after {width: 0;}#sk-container-id-2 div.sk-dashed-wrapped {border: 1px dashed gray;margin: 0 0.4em 0.5em 0.4em;box-sizing: border-box;padding-bottom: 0.4em;background-color: white;}#sk-container-id-2 div.sk-label label {font-family: monospace;font-weight: bold;display: inline-block;line-height: 1.2em;}#sk-container-id-2 div.sk-label-container {text-align: center;}#sk-container-id-2 div.sk-container {/* jupyter's `normalize.less` sets `[hidden] { display: none; }` but bootstrap.min.css set `[hidden] { display: none !important; }` so we also need the `!important` here to be able to override the default hidden behavior on the sphinx rendered scikit-learn.org. See: https://github.com/scikit-learn/scikit-learn/issues/21755 */display: inline-block !important;position: relative;}#sk-container-id-2 div.sk-text-repr-fallback {display: none;}</style><div id=\"sk-container-id-2\" class=\"sk-top-container\"><div class=\"sk-text-repr-fallback\"><pre>SVC(C=1000000000, gamma=0.0001)</pre><b>In a Jupyter environment, please rerun this cell to show the HTML representation or trust the notebook. <br />On GitHub, the HTML representation is unable to render, please try loading this page with nbviewer.org.</b></div><div class=\"sk-container\" hidden><div class=\"sk-item\"><div class=\"sk-estimator sk-toggleable\"><input class=\"sk-toggleable__control sk-hidden--visually\" id=\"sk-estimator-id-2\" type=\"checkbox\" checked><label for=\"sk-estimator-id-2\" class=\"sk-toggleable__label sk-toggleable__label-arrow\">SVC</label><div class=\"sk-toggleable__content\"><pre>SVC(C=1000000000, gamma=0.0001)</pre></div></div></div></div></div>"
      ],
      "text/plain": [
       "SVC(C=1000000000, gamma=0.0001)"
      ]
     },
     "execution_count": 8,
     "metadata": {},
     "output_type": "execute_result"
    }
   ],
   "source": [
    "# load data\n",
    "svm_read = open('svm_fix_all.csv', 'rb')\n",
    "svm = pickle.load(svm_read)\n",
    "svm\n"
   ]
  },
  {
   "cell_type": "code",
   "execution_count": 9,
   "metadata": {},
   "outputs": [],
   "source": [
    "'''\n",
    "train_ = svm.score(X_train, y_train)\n",
    "test_ = svm.score(X_test, y_test)\n",
    "\n",
    "y_pred_ = svm.predict(X_test)\n",
    "\n",
    "y_score_ = svm.decision_function(X_test)\n",
    "'''"
   ]
  },
  {
   "cell_type": "code",
   "execution_count": 10,
   "metadata": {},
   "outputs": [
    {
     "data": {
      "text/plain": [
       "[0.8506059567771983,\n",
       " 0.8472227509803175,\n",
       " array([0, 1, 0, ..., 0, 1, 1]),\n",
       " array([-6947.37498668, 19414.30122587,  -850.55351081, ...,\n",
       "        -1381.77877155, 19631.23196647, 16780.59886548])]"
      ]
     },
     "execution_count": 10,
     "metadata": {},
     "output_type": "execute_result"
    }
   ],
   "source": [
    "'''\n",
    "svm_var = [train_, test_, y_pred_, y_score_]\n",
    "svm_var\n",
    "'''"
   ]
  },
  {
   "cell_type": "code",
   "execution_count": 11,
   "metadata": {},
   "outputs": [],
   "source": [
    "'''\n",
    "svm_save_var = open('svm_fix_all_var.csv', 'wb')\n",
    "pickle.dump(svm_var, svm_save_var)\n",
    "svm_save_var.close()\n",
    "'''"
   ]
  },
  {
   "cell_type": "code",
   "execution_count": 12,
   "metadata": {},
   "outputs": [
    {
     "data": {
      "text/plain": [
       "[0.8506059567771983,\n",
       " 0.8472227509803175,\n",
       " array([0, 1, 0, ..., 0, 1, 1]),\n",
       " array([-6947.37498668, 19414.30122587,  -850.55351081, ...,\n",
       "        -1381.77877155, 19631.23196647, 16780.59886548])]"
      ]
     },
     "execution_count": 12,
     "metadata": {},
     "output_type": "execute_result"
    }
   ],
   "source": [
    "svm_read_var = open('svm_fix_all_var.csv', 'rb')\n",
    "svm_result = pickle.load(svm_read_var)\n",
    "svm_result"
   ]
  },
  {
   "cell_type": "code",
   "execution_count": 13,
   "metadata": {},
   "outputs": [
    {
     "data": {
      "text/plain": [
       "(0.8506059567771983,\n",
       " 0.8472227509803175,\n",
       " array([0, 1, 0, ..., 0, 1, 1]),\n",
       " array([-6947.37498668, 19414.30122587,  -850.55351081, ...,\n",
       "        -1381.77877155, 19631.23196647, 16780.59886548]))"
      ]
     },
     "execution_count": 13,
     "metadata": {},
     "output_type": "execute_result"
    }
   ],
   "source": [
    "# 0, 1, 2, 3\n",
    "train = svm_result[0]\n",
    "test = svm_result[1]\n",
    "y_pred = svm_result[2]\n",
    "y_score = svm_result[3]\n",
    "\n",
    "train, test, y_pred, y_score"
   ]
  },
  {
   "cell_type": "code",
   "execution_count": 14,
   "metadata": {},
   "outputs": [
    {
     "name": "stdout",
     "output_type": "stream",
     "text": [
      "Train set accuracy = 0.8506059567771983\n",
      "Test set accuracy = 0.8472227509803175\n"
     ]
    }
   ],
   "source": [
    "print(\"Train set accuracy = \" + str(train))\n",
    "print(\"Test set accuracy = \" + str(test))"
   ]
  },
  {
   "cell_type": "code",
   "execution_count": 15,
   "metadata": {},
   "outputs": [
    {
     "data": {
      "image/png": "[encoded data removed]",
      "text/plain": [
       "<Figure size 432x288 with 2 Axes>"
      ]
     },
     "metadata": {
      "needs_background": "light"
     },
     "output_type": "display_data"
    }
   ],
   "source": [
    "from sklearn.metrics import ConfusionMatrixDisplay\n",
    "\n",
    "label_name = 'Elliptical', 'Spiral'\n",
    "\n",
    "ConfusionMatrixDisplay.from_predictions(\n",
    "    y_test, y_pred, cmap='Blues', display_labels=label_name)\n",
    "    \n",
    "plt.show()"
   ]
  },
  {
   "cell_type": "code",
   "execution_count": 16,
   "metadata": {},
   "outputs": [
    {
     "data": {
      "text/plain": [
       "(53307, 8496, 11569, 57963)"
      ]
     },
     "execution_count": 16,
     "metadata": {},
     "output_type": "execute_result"
    }
   ],
   "source": [
    "from sklearn.metrics import confusion_matrix\n",
    "\n",
    "tn, fp, fn, tp = confusion_matrix(y_test, y_pred).ravel()\n",
    "tn, fp, fn, tp"
   ]
  },
  {
   "cell_type": "markdown",
   "metadata": {},
   "source": [
    "negative = elliptical\n",
    "\n",
    "positive = spiral"
   ]
  },
  {
   "cell_type": "code",
   "execution_count": 17,
   "metadata": {},
   "outputs": [],
   "source": [
    "X_test_tn = []\n",
    "X_test_tp = []\n",
    "X_test_fn = []\n",
    "X_test_fp = []\n",
    "\n",
    "for i in np.arange(0, len(y_test), 1):\n",
    "    if y_test[i] == y_pred[i] == 0:\n",
    "        # 0 = Elliptical = n\n",
    "        X_test_tn += [X_test[i]]\n",
    "\n",
    "    elif y_test[i] == y_pred[i] == 1:\n",
    "        # 1 = Spiral = p\n",
    "        X_test_tp += [X_test[i]]\n",
    "        \n",
    "    elif y_test[i] > y_pred[i]:\n",
    "        # 1 > 0 = Spiral but pred Elliptical\n",
    "        X_test_fn += [X_test[i]]\n",
    "        \n",
    "    elif y_test[i] < y_pred[i]:\n",
    "        # 0 < 1 = Elliptical but pred Spiral\n",
    "        X_test_fp += [X_test[i]]\n"
   ]
  },
  {
   "cell_type": "code",
   "execution_count": 18,
   "metadata": {},
   "outputs": [],
   "source": [
    "X_test_tn = list(zip(*X_test_tn))\n",
    "X_test_tp = list(zip(*X_test_tp))\n",
    "X_test_fn = list(zip(*X_test_fn))\n",
    "X_test_fp = list(zip(*X_test_fp))"
   ]
  },
  {
   "cell_type": "code",
   "execution_count": 19,
   "metadata": {},
   "outputs": [
    {
     "data": {
      "image/png": "[encoded data removed]",
      "text/plain": [
       "<Figure size 432x288 with 1 Axes>"
      ]
     },
     "metadata": {
      "needs_background": "light"
     },
     "output_type": "display_data"
    }
   ],
   "source": [
    "from sklearn.metrics import roc_curve\n",
    "from sklearn.metrics import RocCurveDisplay\n",
    "\n",
    "fpr, tpr, _ = roc_curve(y_test, y_score, pos_label=svm.classes_[1])\n",
    "roc_display = RocCurveDisplay(fpr=fpr, tpr=tpr).plot()\n"
   ]
  },
  {
   "cell_type": "code",
   "execution_count": 20,
   "metadata": {},
   "outputs": [
    {
     "data": {
      "image/png": "[encoded data removed]",
      "text/plain": [
       "<Figure size 432x288 with 1 Axes>"
      ]
     },
     "metadata": {
      "needs_background": "light"
     },
     "output_type": "display_data"
    }
   ],
   "source": [
    "from sklearn.metrics import precision_recall_curve\n",
    "from sklearn.metrics import PrecisionRecallDisplay\n",
    "\n",
    "prec, recall, _ = precision_recall_curve(y_test, y_score, pos_label=svm.classes_[1])\n",
    "\n",
    "pr_display = PrecisionRecallDisplay(precision=prec, recall=recall).plot()"
   ]
  },
  {
   "cell_type": "code",
   "execution_count": 21,
   "metadata": {},
   "outputs": [],
   "source": [
    "from sklearn.inspection import permutation_importance\n",
    "'''\n",
    "feature_names = ['u', 'g', 'r', 'i', 'z']\n",
    "features = np.array(feature_names)\n",
    "\n",
    "perm_importance = permutation_importance(svm, X_test, y_test)\n",
    "sorted_idx = perm_importance.importances_mean.argsort()\n",
    "'''"
   ]
  },
  {
   "cell_type": "code",
   "execution_count": 34,
   "metadata": {},
   "outputs": [],
   "source": [
    "'''\n",
    "save_imp = open('svm_fix_all_perm_imp.csv', 'wb')\n",
    "pickle.dump(perm_importance, save_imp)\n",
    "save_imp.close()\n",
    "'''"
   ]
  },
  {
   "cell_type": "code",
   "execution_count": 35,
   "metadata": {},
   "outputs": [
    {
     "data": {
      "text/plain": [
       "{'importances_mean': array([ 1.60204058e-01,  2.78583774e-01,  3.02810370e-01,  1.52221419e-01,\n",
       "        -2.29946320e-04]),\n",
       " 'importances_std': array([0.00104171, 0.00088749, 0.00081947, 0.00076921, 0.00023142]),\n",
       " 'importances': array([[ 1.60201013e-01,  1.59538585e-01,  1.62211139e-01,\n",
       "          1.59706095e-01,  1.59363460e-01],\n",
       "        [ 2.79773099e-01,  2.77237599e-01,  2.79072601e-01,\n",
       "          2.78874634e-01,  2.77960940e-01],\n",
       "        [ 3.02501237e-01,  3.04359082e-01,  3.02805802e-01,\n",
       "          3.01968249e-01,  3.02417482e-01],\n",
       "        [ 1.52198576e-01,  1.51201127e-01,  1.52746793e-01,\n",
       "          1.53348308e-01,  1.51612289e-01],\n",
       "        [ 1.52282331e-04, -2.66494080e-04, -4.03548178e-04,\n",
       "         -1.21825865e-04, -5.10145810e-04]])}"
      ]
     },
     "execution_count": 35,
     "metadata": {},
     "output_type": "execute_result"
    }
   ],
   "source": [
    "read_imp = open('svm_fix_all_perm_imp.csv', 'rb')\n",
    "perm_imp = pickle.load(read_imp)\n",
    "perm_imp"
   ]
  },
  {
   "cell_type": "code",
   "execution_count": 36,
   "metadata": {},
   "outputs": [
    {
     "data": {
      "text/plain": [
       "Text(0.5, 0, 'Importance Score')"
      ]
     },
     "execution_count": 36,
     "metadata": {},
     "output_type": "execute_result"
    },
    {
     "data": {
      "image/png": "[encoded data removed]",
      "text/plain": [
       "<Figure size 576x432 with 1 Axes>"
      ]
     },
     "metadata": {
      "needs_background": "light"
     },
     "output_type": "display_data"
    }
   ],
   "source": [
    "plt.figure(figsize=(8, 6), facecolor='none')\n",
    "\n",
    "plt.barh(features[sorted_idx], perm_imp.importances_mean[sorted_idx])\n",
    "plt.xlabel(\"Importance Score\")\n"
   ]
  },
  {
   "cell_type": "code",
   "execution_count": 39,
   "metadata": {},
   "outputs": [],
   "source": [
    "def tn_tp_fn_fp(xlim, xticks, xlabel, pos):\n",
    "    plt.figure(figsize=(8, 6), facecolor='none')\n",
    "    plt.gca(xlim=xlim, xticks = xticks)\n",
    "\n",
    "    step = 0.05\n",
    "    bins = np.arange(np.min(X_test), np.max(X_test) + step, step)\n",
    "\n",
    "    plt.hist(X_test_tp[pos], bins=bins, alpha=0.5, label='tp')\n",
    "    plt.hist(X_test_tn[pos], bins=bins, alpha=0.5, label='tn')\n",
    "    plt.hist(X_test_fp[pos], bins=bins, alpha=0.5, label='fp')\n",
    "    plt.hist(X_test_fn[pos], bins=bins, alpha=0.5, label='fn')\n",
    "\n",
    "    plt.xlabel(str(xlabel), size=14)\n",
    "    plt.ylabel('Number', size=14)\n",
    "    plt.legend(loc='upper right')\n",
    "\n",
    "    plt.tick_params(which='major', direction='in', length=5, labelsize='12')"
   ]
  },
  {
   "cell_type": "code",
   "execution_count": 40,
   "metadata": {},
   "outputs": [
    {
     "data": {
      "image/png": "[encoded data removed]",
      "text/plain": [
       "<Figure size 576x432 with 1 Axes>"
      ]
     },
     "metadata": {
      "needs_background": "light"
     },
     "output_type": "display_data"
    }
   ],
   "source": [
    "tn_tp_fn_fp([16.3, 22.2], np.arange(16.5, 22.5, 0.5), 'Mag_u', 0)"
   ]
  },
  {
   "cell_type": "code",
   "execution_count": 41,
   "metadata": {},
   "outputs": [
    {
     "data": {
      "image/png": "[encoded data removed]",
      "text/plain": [
       "<Figure size 576x432 with 1 Axes>"
      ]
     },
     "metadata": {
      "needs_background": "light"
     },
     "output_type": "display_data"
    }
   ],
   "source": [
    "tn_tp_fn_fp([14.8, 19.7], np.arange(15, 20, 0.5), 'Mag_g', 1)"
   ]
  },
  {
   "cell_type": "code",
   "execution_count": 42,
   "metadata": {},
   "outputs": [
    {
     "data": {
      "image/png": "[encoded data removed]",
      "text/plain": [
       "<Figure size 576x432 with 1 Axes>"
      ]
     },
     "metadata": {
      "needs_background": "light"
     },
     "output_type": "display_data"
    }
   ],
   "source": [
    "tn_tp_fn_fp([14.3, 18.2], np.arange(14.5, 18.5, 0.5), 'Mag_r', 2)"
   ]
  },
  {
   "cell_type": "code",
   "execution_count": 43,
   "metadata": {},
   "outputs": [
    {
     "data": {
      "image/png": "[encoded data removed]",
      "text/plain": [
       "<Figure size 576x432 with 1 Axes>"
      ]
     },
     "metadata": {
      "needs_background": "light"
     },
     "output_type": "display_data"
    }
   ],
   "source": [
    "tn_tp_fn_fp([13.8, 18.2], np.arange(14, 18.5, 0.5), 'Mag_i', 3)"
   ]
  },
  {
   "cell_type": "code",
   "execution_count": 44,
   "metadata": {},
   "outputs": [
    {
     "data": {
      "image/png": "[encoded data removed]",
      "text/plain": [
       "<Figure size 576x432 with 1 Axes>"
      ]
     },
     "metadata": {
      "needs_background": "light"
     },
     "output_type": "display_data"
    }
   ],
   "source": [
    "tn_tp_fn_fp([13.7, 18.7], np.arange(14, 19, 0.5), 'Mag_z', 4)"
   ]
  }
 ],
 "metadata": {
  "kernelspec": {
   "display_name": "Python 3.8.5 64-bit",
   "language": "python",
   "name": "python3"
  },
  "language_info": {
   "codemirror_mode": {
    "name": "ipython",
    "version": 3
   },
   "file_extension": ".py",
   "mimetype": "text/x-python",
   "name": "python",
   "nbconvert_exporter": "python",
   "pygments_lexer": "ipython3",
   "version": "3.8.5"
  },
  "orig_nbformat": 4,
  "vscode": {
   "interpreter": {
    "hash": "626427279aa2454b6be04cdb3a226e87a519a5817b1366377d3d6a340696fdd3"
   }
  }
 },
 "nbformat": 4,
 "nbformat_minor": 2
}
