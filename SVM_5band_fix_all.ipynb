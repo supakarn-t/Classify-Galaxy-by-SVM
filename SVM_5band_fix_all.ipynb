{
 "cells": [
  {
   "cell_type": "code",
   "execution_count": 1,
   "metadata": {},
   "outputs": [
    {
     "data": {
      "text/html": [
       "<div>\n",
       "<style scoped>\n",
       "    .dataframe tbody tr th:only-of-type {\n",
       "        vertical-align: middle;\n",
       "    }\n",
       "\n",
       "    .dataframe tbody tr th {\n",
       "        vertical-align: top;\n",
       "    }\n",
       "\n",
       "    .dataframe thead th {\n",
       "        text-align: right;\n",
       "    }\n",
       "</style>\n",
       "<table border=\"1\" class=\"dataframe\">\n",
       "  <thead>\n",
       "    <tr style=\"text-align: right;\">\n",
       "      <th></th>\n",
       "      <th>Unnamed: 0</th>\n",
       "      <th>specObjID</th>\n",
       "      <th>ra</th>\n",
       "      <th>dec</th>\n",
       "      <th>z</th>\n",
       "      <th>zErr</th>\n",
       "      <th>Types</th>\n",
       "      <th>d4000_n</th>\n",
       "      <th>sigmaStars</th>\n",
       "      <th>fracDeV_r</th>\n",
       "      <th>petroMag_u</th>\n",
       "      <th>petroMag_g</th>\n",
       "      <th>petroMag_r</th>\n",
       "      <th>petroMag_i</th>\n",
       "      <th>petroMag_z</th>\n",
       "    </tr>\n",
       "  </thead>\n",
       "  <tbody>\n",
       "    <tr>\n",
       "      <th>0</th>\n",
       "      <td>0</td>\n",
       "      <td>2795715636188178432</td>\n",
       "      <td>162.87876</td>\n",
       "      <td>16.838215</td>\n",
       "      <td>0.022297</td>\n",
       "      <td>0.000007</td>\n",
       "      <td>elliptical</td>\n",
       "      <td>1.939160</td>\n",
       "      <td>128.97870</td>\n",
       "      <td>1.000000</td>\n",
       "      <td>17.35997</td>\n",
       "      <td>15.50984</td>\n",
       "      <td>14.68634</td>\n",
       "      <td>14.30167</td>\n",
       "      <td>14.01772</td>\n",
       "    </tr>\n",
       "    <tr>\n",
       "      <th>1</th>\n",
       "      <td>1</td>\n",
       "      <td>2840803871343798272</td>\n",
       "      <td>240.39499</td>\n",
       "      <td>11.850668</td>\n",
       "      <td>0.053161</td>\n",
       "      <td>0.000011</td>\n",
       "      <td>elliptical</td>\n",
       "      <td>1.944695</td>\n",
       "      <td>183.85820</td>\n",
       "      <td>0.935781</td>\n",
       "      <td>19.15590</td>\n",
       "      <td>17.14306</td>\n",
       "      <td>16.24167</td>\n",
       "      <td>15.81783</td>\n",
       "      <td>15.50098</td>\n",
       "    </tr>\n",
       "    <tr>\n",
       "      <th>2</th>\n",
       "      <td>2</td>\n",
       "      <td>2800218136303921152</td>\n",
       "      <td>164.66952</td>\n",
       "      <td>16.900165</td>\n",
       "      <td>0.068568</td>\n",
       "      <td>0.000009</td>\n",
       "      <td>spiral</td>\n",
       "      <td>1.282932</td>\n",
       "      <td>81.20707</td>\n",
       "      <td>0.420175</td>\n",
       "      <td>18.36842</td>\n",
       "      <td>17.18698</td>\n",
       "      <td>16.64672</td>\n",
       "      <td>16.31816</td>\n",
       "      <td>16.09746</td>\n",
       "    </tr>\n",
       "    <tr>\n",
       "      <th>3</th>\n",
       "      <td>3</td>\n",
       "      <td>2800232155077175296</td>\n",
       "      <td>164.85617</td>\n",
       "      <td>16.979098</td>\n",
       "      <td>0.083634</td>\n",
       "      <td>0.000019</td>\n",
       "      <td>spiral</td>\n",
       "      <td>1.565293</td>\n",
       "      <td>97.63731</td>\n",
       "      <td>0.170645</td>\n",
       "      <td>18.47494</td>\n",
       "      <td>17.25055</td>\n",
       "      <td>16.64057</td>\n",
       "      <td>16.32310</td>\n",
       "      <td>16.13419</td>\n",
       "    </tr>\n",
       "    <tr>\n",
       "      <th>4</th>\n",
       "      <td>4</td>\n",
       "      <td>2849703318459017216</td>\n",
       "      <td>245.52298</td>\n",
       "      <td>10.278617</td>\n",
       "      <td>0.128543</td>\n",
       "      <td>0.000025</td>\n",
       "      <td>spiral</td>\n",
       "      <td>1.453489</td>\n",
       "      <td>219.17930</td>\n",
       "      <td>0.478295</td>\n",
       "      <td>19.32188</td>\n",
       "      <td>17.80865</td>\n",
       "      <td>17.02585</td>\n",
       "      <td>16.56203</td>\n",
       "      <td>16.39108</td>\n",
       "    </tr>\n",
       "    <tr>\n",
       "      <th>...</th>\n",
       "      <td>...</td>\n",
       "      <td>...</td>\n",
       "      <td>...</td>\n",
       "      <td>...</td>\n",
       "      <td>...</td>\n",
       "      <td>...</td>\n",
       "      <td>...</td>\n",
       "      <td>...</td>\n",
       "      <td>...</td>\n",
       "      <td>...</td>\n",
       "      <td>...</td>\n",
       "      <td>...</td>\n",
       "      <td>...</td>\n",
       "      <td>...</td>\n",
       "      <td>...</td>\n",
       "    </tr>\n",
       "    <tr>\n",
       "      <th>525335</th>\n",
       "      <td>583519</td>\n",
       "      <td>2795713986920736768</td>\n",
       "      <td>162.43700</td>\n",
       "      <td>17.284938</td>\n",
       "      <td>0.056785</td>\n",
       "      <td>0.000006</td>\n",
       "      <td>spiral</td>\n",
       "      <td>1.123235</td>\n",
       "      <td>98.59753</td>\n",
       "      <td>0.000000</td>\n",
       "      <td>19.50647</td>\n",
       "      <td>17.86611</td>\n",
       "      <td>17.53326</td>\n",
       "      <td>17.20054</td>\n",
       "      <td>17.99106</td>\n",
       "    </tr>\n",
       "    <tr>\n",
       "      <th>525336</th>\n",
       "      <td>583520</td>\n",
       "      <td>2916209471627749376</td>\n",
       "      <td>155.78431</td>\n",
       "      <td>15.811398</td>\n",
       "      <td>0.145377</td>\n",
       "      <td>0.000023</td>\n",
       "      <td>elliptical</td>\n",
       "      <td>1.496544</td>\n",
       "      <td>148.20890</td>\n",
       "      <td>1.000000</td>\n",
       "      <td>20.09706</td>\n",
       "      <td>18.75447</td>\n",
       "      <td>17.76428</td>\n",
       "      <td>17.33186</td>\n",
       "      <td>17.03715</td>\n",
       "    </tr>\n",
       "    <tr>\n",
       "      <th>525337</th>\n",
       "      <td>583522</td>\n",
       "      <td>2920722966893324288</td>\n",
       "      <td>159.56049</td>\n",
       "      <td>16.508320</td>\n",
       "      <td>0.178770</td>\n",
       "      <td>0.000020</td>\n",
       "      <td>spiral</td>\n",
       "      <td>1.549078</td>\n",
       "      <td>91.99490</td>\n",
       "      <td>0.407970</td>\n",
       "      <td>19.59916</td>\n",
       "      <td>18.35870</td>\n",
       "      <td>17.55004</td>\n",
       "      <td>17.16154</td>\n",
       "      <td>17.01065</td>\n",
       "    </tr>\n",
       "    <tr>\n",
       "      <th>525338</th>\n",
       "      <td>583523</td>\n",
       "      <td>2792375044968310784</td>\n",
       "      <td>161.67263</td>\n",
       "      <td>16.703673</td>\n",
       "      <td>0.056509</td>\n",
       "      <td>0.000008</td>\n",
       "      <td>spiral</td>\n",
       "      <td>1.398121</td>\n",
       "      <td>83.41415</td>\n",
       "      <td>0.282227</td>\n",
       "      <td>19.66740</td>\n",
       "      <td>18.04996</td>\n",
       "      <td>17.17682</td>\n",
       "      <td>16.70945</td>\n",
       "      <td>16.39195</td>\n",
       "    </tr>\n",
       "    <tr>\n",
       "      <th>525339</th>\n",
       "      <td>583524</td>\n",
       "      <td>2792400608613656576</td>\n",
       "      <td>162.58228</td>\n",
       "      <td>16.825384</td>\n",
       "      <td>0.168399</td>\n",
       "      <td>0.000026</td>\n",
       "      <td>elliptical</td>\n",
       "      <td>1.903417</td>\n",
       "      <td>192.44550</td>\n",
       "      <td>1.000000</td>\n",
       "      <td>20.37112</td>\n",
       "      <td>18.54632</td>\n",
       "      <td>17.46568</td>\n",
       "      <td>16.99763</td>\n",
       "      <td>16.79219</td>\n",
       "    </tr>\n",
       "  </tbody>\n",
       "</table>\n",
       "<p>525340 rows × 15 columns</p>\n",
       "</div>"
      ],
      "text/plain": [
       "        Unnamed: 0            specObjID         ra        dec         z  \\\n",
       "0                0  2795715636188178432  162.87876  16.838215  0.022297   \n",
       "1                1  2840803871343798272  240.39499  11.850668  0.053161   \n",
       "2                2  2800218136303921152  164.66952  16.900165  0.068568   \n",
       "3                3  2800232155077175296  164.85617  16.979098  0.083634   \n",
       "4                4  2849703318459017216  245.52298  10.278617  0.128543   \n",
       "...            ...                  ...        ...        ...       ...   \n",
       "525335      583519  2795713986920736768  162.43700  17.284938  0.056785   \n",
       "525336      583520  2916209471627749376  155.78431  15.811398  0.145377   \n",
       "525337      583522  2920722966893324288  159.56049  16.508320  0.178770   \n",
       "525338      583523  2792375044968310784  161.67263  16.703673  0.056509   \n",
       "525339      583524  2792400608613656576  162.58228  16.825384  0.168399   \n",
       "\n",
       "            zErr       Types   d4000_n  sigmaStars  fracDeV_r  petroMag_u  \\\n",
       "0       0.000007  elliptical  1.939160   128.97870   1.000000    17.35997   \n",
       "1       0.000011  elliptical  1.944695   183.85820   0.935781    19.15590   \n",
       "2       0.000009      spiral  1.282932    81.20707   0.420175    18.36842   \n",
       "3       0.000019      spiral  1.565293    97.63731   0.170645    18.47494   \n",
       "4       0.000025      spiral  1.453489   219.17930   0.478295    19.32188   \n",
       "...          ...         ...       ...         ...        ...         ...   \n",
       "525335  0.000006      spiral  1.123235    98.59753   0.000000    19.50647   \n",
       "525336  0.000023  elliptical  1.496544   148.20890   1.000000    20.09706   \n",
       "525337  0.000020      spiral  1.549078    91.99490   0.407970    19.59916   \n",
       "525338  0.000008      spiral  1.398121    83.41415   0.282227    19.66740   \n",
       "525339  0.000026  elliptical  1.903417   192.44550   1.000000    20.37112   \n",
       "\n",
       "        petroMag_g  petroMag_r  petroMag_i  petroMag_z  \n",
       "0         15.50984    14.68634    14.30167    14.01772  \n",
       "1         17.14306    16.24167    15.81783    15.50098  \n",
       "2         17.18698    16.64672    16.31816    16.09746  \n",
       "3         17.25055    16.64057    16.32310    16.13419  \n",
       "4         17.80865    17.02585    16.56203    16.39108  \n",
       "...            ...         ...         ...         ...  \n",
       "525335    17.86611    17.53326    17.20054    17.99106  \n",
       "525336    18.75447    17.76428    17.33186    17.03715  \n",
       "525337    18.35870    17.55004    17.16154    17.01065  \n",
       "525338    18.04996    17.17682    16.70945    16.39195  \n",
       "525339    18.54632    17.46568    16.99763    16.79219  \n",
       "\n",
       "[525340 rows x 15 columns]"
      ]
     },
     "execution_count": 1,
     "metadata": {},
     "output_type": "execute_result"
    }
   ],
   "source": [
    "import pandas as pd\n",
    "\n",
    "SDSS_DR16 = 'SDSS_DR16_90cutoff_for_Vicky.csv'\n",
    "df = pd.read_csv(SDSS_DR16)\n",
    "df"
   ]
  },
  {
   "cell_type": "code",
   "execution_count": 2,
   "metadata": {},
   "outputs": [],
   "source": [
    "import numpy as np\n",
    "\n",
    "Types = df.loc[:, 'Types']\n",
    "types = Types.apply(lambda v: v.replace(\n",
    "    'elliptical', '0').replace('spiral', '1')).astype(int)\n",
    "\n",
    "X = np.array(df.loc[:, 'petroMag_u':'petroMag_z'])\n",
    "y = np.array(types)\n"
   ]
  },
  {
   "cell_type": "code",
   "execution_count": 3,
   "metadata": {},
   "outputs": [],
   "source": [
    "from sklearn.model_selection import train_test_split\n",
    "X_train, X_test, y_train, y_test = train_test_split(X, y, random_state=42)\n"
   ]
  },
  {
   "cell_type": "code",
   "execution_count": 4,
   "metadata": {},
   "outputs": [
    {
     "name": "stdout",
     "output_type": "stream",
     "text": [
      "(394005, 5)\n",
      "[[18.01291 16.67832 16.1865  15.88721 15.75437]\n",
      " [20.21619 18.17599 17.19482 16.80832 16.4698 ]\n",
      " [19.41963 17.94184 17.16086 16.76941 16.4398 ]\n",
      " ...\n",
      " [19.66282 17.80849 16.73261 16.28713 15.95521]\n",
      " [18.57667 17.74242 17.33324 17.01546 16.90319]\n",
      " [19.87639 18.19953 17.23245 16.76843 16.39096]]\n",
      "(131335, 5)\n",
      "[[19.60983 17.83717 16.90383 16.51098 16.18468]\n",
      " [17.72956 16.51022 16.05344 15.77668 15.83779]\n",
      " [18.96586 17.35411 16.55898 16.17156 15.94298]\n",
      " ...\n",
      " [18.40866 16.82027 16.05136 15.64841 15.35792]\n",
      " [17.98657 16.8621  16.359   16.02794 15.97433]\n",
      " [19.09756 18.20892 17.68531 17.34197 17.44923]]\n"
     ]
    }
   ],
   "source": [
    "# .shape = ดูขนาดของข้อมูล\n",
    "print(X_train.shape)\n",
    "print(X_train)\n",
    "print(X_test.shape)\n",
    "print(X_test)"
   ]
  },
  {
   "cell_type": "code",
   "execution_count": 14,
   "metadata": {},
   "outputs": [
    {
     "data": {
      "text/plain": [
       "'\\nfrom sklearn.pipeline import Pipeline\\nfrom sklearn.svm import SVC\\n\\nC = 1000000000\\ngamma = 0.0001\\n\\n# RBF Kernel\\nclf_rbf = Pipeline(\\n    [(\"rbf_svc\", SVC(kernel=\"rbf\", C=C, gamma=gamma))])\\n\\nclf_fit = clf_rbf.fit(X_train, y_train)\\nclf_fit\\n'"
      ]
     },
     "execution_count": 14,
     "metadata": {},
     "output_type": "execute_result"
    }
   ],
   "source": [
    "'''\n",
    "from sklearn.pipeline import Pipeline\n",
    "from sklearn.svm import SVC\n",
    "\n",
    "C = 1000000000\n",
    "gamma = 0.0001\n",
    "\n",
    "# RBF Kernel\n",
    "clf_rbf = Pipeline(\n",
    "    [(\"rbf_svc\", SVC(kernel=\"rbf\", C=C, gamma=gamma))])\n",
    "\n",
    "clf_fit = clf_rbf.fit(X_train, y_train)\n",
    "clf_fit\n",
    "'''"
   ]
  },
  {
   "cell_type": "code",
   "execution_count": 6,
   "metadata": {},
   "outputs": [
    {
     "data": {
      "text/plain": [
       "\"\\n# save train-test data\\nclf_save = open('clf_fix_all.csv', 'wb')\\npickle.dump(clf_fit, clf_save)\\nclf_save.close()\\n\""
      ]
     },
     "execution_count": 6,
     "metadata": {},
     "output_type": "execute_result"
    }
   ],
   "source": [
    "import pickle\n",
    "'''\n",
    "# save train-test data\n",
    "clf_save = open('clf_fix_all.csv', 'wb')\n",
    "pickle.dump(clf_fit, clf_save)\n",
    "clf_save.close()\n",
    "'''"
   ]
  },
  {
   "cell_type": "code",
   "execution_count": 7,
   "metadata": {},
   "outputs": [
    {
     "data": {
      "text/html": [
       "<style>#sk-container-id-1 {color: black;background-color: white;}#sk-container-id-1 pre{padding: 0;}#sk-container-id-1 div.sk-toggleable {background-color: white;}#sk-container-id-1 label.sk-toggleable__label {cursor: pointer;display: block;width: 100%;margin-bottom: 0;padding: 0.3em;box-sizing: border-box;text-align: center;}#sk-container-id-1 label.sk-toggleable__label-arrow:before {content: \"▸\";float: left;margin-right: 0.25em;color: #696969;}#sk-container-id-1 label.sk-toggleable__label-arrow:hover:before {color: black;}#sk-container-id-1 div.sk-estimator:hover label.sk-toggleable__label-arrow:before {color: black;}#sk-container-id-1 div.sk-toggleable__content {max-height: 0;max-width: 0;overflow: hidden;text-align: left;background-color: #f0f8ff;}#sk-container-id-1 div.sk-toggleable__content pre {margin: 0.2em;color: black;border-radius: 0.25em;background-color: #f0f8ff;}#sk-container-id-1 input.sk-toggleable__control:checked~div.sk-toggleable__content {max-height: 200px;max-width: 100%;overflow: auto;}#sk-container-id-1 input.sk-toggleable__control:checked~label.sk-toggleable__label-arrow:before {content: \"▾\";}#sk-container-id-1 div.sk-estimator input.sk-toggleable__control:checked~label.sk-toggleable__label {background-color: #d4ebff;}#sk-container-id-1 div.sk-label input.sk-toggleable__control:checked~label.sk-toggleable__label {background-color: #d4ebff;}#sk-container-id-1 input.sk-hidden--visually {border: 0;clip: rect(1px 1px 1px 1px);clip: rect(1px, 1px, 1px, 1px);height: 1px;margin: -1px;overflow: hidden;padding: 0;position: absolute;width: 1px;}#sk-container-id-1 div.sk-estimator {font-family: monospace;background-color: #f0f8ff;border: 1px dotted black;border-radius: 0.25em;box-sizing: border-box;margin-bottom: 0.5em;}#sk-container-id-1 div.sk-estimator:hover {background-color: #d4ebff;}#sk-container-id-1 div.sk-parallel-item::after {content: \"\";width: 100%;border-bottom: 1px solid gray;flex-grow: 1;}#sk-container-id-1 div.sk-label:hover label.sk-toggleable__label {background-color: #d4ebff;}#sk-container-id-1 div.sk-serial::before {content: \"\";position: absolute;border-left: 1px solid gray;box-sizing: border-box;top: 0;bottom: 0;left: 50%;z-index: 0;}#sk-container-id-1 div.sk-serial {display: flex;flex-direction: column;align-items: center;background-color: white;padding-right: 0.2em;padding-left: 0.2em;position: relative;}#sk-container-id-1 div.sk-item {position: relative;z-index: 1;}#sk-container-id-1 div.sk-parallel {display: flex;align-items: stretch;justify-content: center;background-color: white;position: relative;}#sk-container-id-1 div.sk-item::before, #sk-container-id-1 div.sk-parallel-item::before {content: \"\";position: absolute;border-left: 1px solid gray;box-sizing: border-box;top: 0;bottom: 0;left: 50%;z-index: -1;}#sk-container-id-1 div.sk-parallel-item {display: flex;flex-direction: column;z-index: 1;position: relative;background-color: white;}#sk-container-id-1 div.sk-parallel-item:first-child::after {align-self: flex-end;width: 50%;}#sk-container-id-1 div.sk-parallel-item:last-child::after {align-self: flex-start;width: 50%;}#sk-container-id-1 div.sk-parallel-item:only-child::after {width: 0;}#sk-container-id-1 div.sk-dashed-wrapped {border: 1px dashed gray;margin: 0 0.4em 0.5em 0.4em;box-sizing: border-box;padding-bottom: 0.4em;background-color: white;}#sk-container-id-1 div.sk-label label {font-family: monospace;font-weight: bold;display: inline-block;line-height: 1.2em;}#sk-container-id-1 div.sk-label-container {text-align: center;}#sk-container-id-1 div.sk-container {/* jupyter's `normalize.less` sets `[hidden] { display: none; }` but bootstrap.min.css set `[hidden] { display: none !important; }` so we also need the `!important` here to be able to override the default hidden behavior on the sphinx rendered scikit-learn.org. See: https://github.com/scikit-learn/scikit-learn/issues/21755 */display: inline-block !important;position: relative;}#sk-container-id-1 div.sk-text-repr-fallback {display: none;}</style><div id=\"sk-container-id-1\" class=\"sk-top-container\"><div class=\"sk-text-repr-fallback\"><pre>Pipeline(steps=[(&#x27;rbf_svc&#x27;, SVC(C=1000000000, gamma=0.0001))])</pre><b>In a Jupyter environment, please rerun this cell to show the HTML representation or trust the notebook. <br />On GitHub, the HTML representation is unable to render, please try loading this page with nbviewer.org.</b></div><div class=\"sk-container\" hidden><div class=\"sk-item sk-dashed-wrapped\"><div class=\"sk-label-container\"><div class=\"sk-label sk-toggleable\"><input class=\"sk-toggleable__control sk-hidden--visually\" id=\"sk-estimator-id-1\" type=\"checkbox\" ><label for=\"sk-estimator-id-1\" class=\"sk-toggleable__label sk-toggleable__label-arrow\">Pipeline</label><div class=\"sk-toggleable__content\"><pre>Pipeline(steps=[(&#x27;rbf_svc&#x27;, SVC(C=1000000000, gamma=0.0001))])</pre></div></div></div><div class=\"sk-serial\"><div class=\"sk-item\"><div class=\"sk-estimator sk-toggleable\"><input class=\"sk-toggleable__control sk-hidden--visually\" id=\"sk-estimator-id-2\" type=\"checkbox\" ><label for=\"sk-estimator-id-2\" class=\"sk-toggleable__label sk-toggleable__label-arrow\">SVC</label><div class=\"sk-toggleable__content\"><pre>SVC(C=1000000000, gamma=0.0001)</pre></div></div></div></div></div></div></div>"
      ],
      "text/plain": [
       "Pipeline(steps=[('rbf_svc', SVC(C=1000000000, gamma=0.0001))])"
      ]
     },
     "execution_count": 7,
     "metadata": {},
     "output_type": "execute_result"
    }
   ],
   "source": [
    "# load data\n",
    "clf_read = open('clf_fix_all.csv', 'rb')\n",
    "clf = pickle.load(clf_read)\n",
    "clf\n"
   ]
  },
  {
   "cell_type": "code",
   "execution_count": 17,
   "metadata": {},
   "outputs": [
    {
     "data": {
      "text/plain": [
       "'\\ntrain = clf.score(X_train, y_train)\\ntest = clf.score(X_test, y_test)\\n\\nprint(\"Train set accuracy = \" + str(train))\\nprint(\"Test set accuracy = \" + str(test))\\n'"
      ]
     },
     "execution_count": 17,
     "metadata": {},
     "output_type": "execute_result"
    }
   ],
   "source": [
    "'''\n",
    "train = clf.score(X_train, y_train)\n",
    "test = clf.score(X_test, y_test)\n",
    "\n",
    "print(\"Train set accuracy = \" + str(train))\n",
    "print(\"Test set accuracy = \" + str(test))\n",
    "'''"
   ]
  },
  {
   "cell_type": "markdown",
   "metadata": {},
   "source": [
    "Train set accuracy = 0.8506059567771983\n",
    "\n",
    "Test set accuracy = 0.8472227509803175"
   ]
  },
  {
   "cell_type": "code",
   "execution_count": 18,
   "metadata": {},
   "outputs": [],
   "source": [
    "from sklearn.metrics import ConfusionMatrixDisplay\n",
    "import matplotlib.pyplot as plt\n",
    "\n",
    "y_pred = clf.predict(X_test)\n",
    "cmap = 'Blues'\n",
    "label_name = 'Elliptical', 'Spiral'\n",
    "\n",
    "ConfusionMatrixDisplay.from_predictions(\n",
    "    y_test, y_pred, cmap=cmap, display_labels=label_name)\n",
    "    \n",
    "plt.show()"
   ]
  },
  {
   "cell_type": "code",
   "execution_count": 10,
   "metadata": {},
   "outputs": [],
   "source": [
    "y_pred = clf.predict(X_test)"
   ]
  },
  {
   "cell_type": "code",
   "execution_count": 11,
   "metadata": {},
   "outputs": [
    {
     "data": {
      "text/plain": [
       "(53307, 8496, 11569, 57963)"
      ]
     },
     "execution_count": 11,
     "metadata": {},
     "output_type": "execute_result"
    }
   ],
   "source": [
    "from sklearn.metrics import confusion_matrix\n",
    "\n",
    "tn, fp, fn, tp = confusion_matrix(y_test, y_pred).ravel()\n",
    "tn, fp, fn, tp"
   ]
  },
  {
   "cell_type": "code",
   "execution_count": null,
   "metadata": {},
   "outputs": [
    {
     "data": {
      "image/png": "[encoded data removed]",
      "text/plain": [
       "<Figure size 432x288 with 1 Axes>"
      ]
     },
     "metadata": {
      "needs_background": "light"
     },
     "output_type": "display_data"
    }
   ],
   "source": [
    "from sklearn.metrics import roc_curve\n",
    "from sklearn.metrics import RocCurveDisplay\n",
    "\n",
    "y_score = clf.decision_function(X_test)\n",
    "fpr, tpr, _ = roc_curve(y_test, y_score, pos_label=clf.classes_[1])\n",
    "\n",
    "roc_display = RocCurveDisplay(fpr=fpr, tpr=tpr).plot()"
   ]
  },
  {
   "cell_type": "code",
   "execution_count": null,
   "metadata": {},
   "outputs": [
    {
     "data": {
      "image/png": "[encoded data removed]",
      "text/plain": [
       "<Figure size 432x288 with 1 Axes>"
      ]
     },
     "metadata": {
      "needs_background": "light"
     },
     "output_type": "display_data"
    }
   ],
   "source": [
    "from sklearn.metrics import precision_recall_curve\n",
    "from sklearn.metrics import PrecisionRecallDisplay\n",
    "\n",
    "prec, recall, _ = precision_recall_curve(y_test, y_score, pos_label=clf.classes_[1])\n",
    "\n",
    "pr_display = PrecisionRecallDisplay(precision=prec, recall=recall).plot()"
   ]
  }
 ],
 "metadata": {
  "kernelspec": {
   "display_name": "Python 3.8.5 64-bit",
   "language": "python",
   "name": "python3"
  },
  "language_info": {
   "codemirror_mode": {
    "name": "ipython",
    "version": 3
   },
   "file_extension": ".py",
   "mimetype": "text/x-python",
   "name": "python",
   "nbconvert_exporter": "python",
   "pygments_lexer": "ipython3",
   "version": "3.8.5"
  },
  "orig_nbformat": 4,
  "vscode": {
   "interpreter": {
    "hash": "626427279aa2454b6be04cdb3a226e87a519a5817b1366377d3d6a340696fdd3"
   }
  }
 },
 "nbformat": 4,
 "nbformat_minor": 2
}
